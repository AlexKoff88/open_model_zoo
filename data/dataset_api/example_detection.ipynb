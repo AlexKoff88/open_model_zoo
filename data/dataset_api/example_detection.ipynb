{
 "cells": [
  {
   "cell_type": "code",
   "execution_count": 1,
   "metadata": {},
   "outputs": [],
   "source": [
    "from openvino.runtime import Core\n",
    "import numpy as np\n",
    "\n",
    "core = Core()\n",
    "\n",
    "model = core.read_model('yolo_v5s.xml')\n",
    "compiled_model = core.compile_model(model, 'CPU')\n",
    "infer_request = compiled_model.create_infer_request()"
   ]
  },
  {
   "cell_type": "code",
   "execution_count": 2,
   "metadata": {},
   "outputs": [],
   "source": [
    "from openvino.model_zoo.datasets import COCO2017Dataset\n",
    "from openvino.model_zoo.transforms.input import TransformComposition, pillow_resize, transpose\n",
    "from openvino.model_zoo.transforms.output import YoloV5\n",
    "from openvino.model_zoo.metrics import create_coco_ap"
   ]
  },
  {
   "cell_type": "code",
   "execution_count": 3,
   "metadata": {},
   "outputs": [
    {
     "name": "stdout",
     "output_type": "stream",
     "text": [
      "Annotation conversion for coco2017 dataset has been started\n",
      "Parameters to be used for conversion:\n",
      "converter: mscoco_detection\n",
      "annotation_file: MSCOCO/annotations/instances_val2017.json\n",
      "Annotation conversion for coco2017 dataset has been finished\n"
     ]
    },
    {
     "ename": "TypeError",
     "evalue": "__init__() got multiple values for argument 'dataset'",
     "output_type": "error",
     "traceback": [
      "\u001b[1;31m---------------------------------------------------------------------------\u001b[0m",
      "\u001b[1;31mTypeError\u001b[0m                                 Traceback (most recent call last)",
      "\u001b[1;32m~\\AppData\\Local\\Temp/ipykernel_20648/43417528.py\u001b[0m in \u001b[0;36m<module>\u001b[1;34m\u001b[0m\n\u001b[0;32m      8\u001b[0m \u001b[0mcoco_dataset\u001b[0m \u001b[1;33m=\u001b[0m \u001b[0mCOCO2017Dataset\u001b[0m\u001b[1;33m(\u001b[0m\u001b[0mannotation_file\u001b[0m\u001b[1;33m=\u001b[0m\u001b[1;34m'MSCOCO/annotations/instances_val2017.json'\u001b[0m\u001b[1;33m,\u001b[0m \u001b[0mdata_dir\u001b[0m\u001b[1;33m=\u001b[0m\u001b[1;34m'MSCOCO/val2017'\u001b[0m\u001b[1;33m)\u001b[0m\u001b[1;33m\u001b[0m\u001b[1;33m\u001b[0m\u001b[0m\n\u001b[0;32m      9\u001b[0m \u001b[0mpostprocessor\u001b[0m \u001b[1;33m=\u001b[0m \u001b[0mYoloV5\u001b[0m\u001b[1;33m(\u001b[0m\u001b[0mcompiled_model\u001b[0m\u001b[1;33m.\u001b[0m\u001b[0moutputs\u001b[0m\u001b[1;33m)\u001b[0m\u001b[1;33m\u001b[0m\u001b[1;33m\u001b[0m\u001b[0m\n\u001b[1;32m---> 10\u001b[1;33m \u001b[0mmetric\u001b[0m \u001b[1;33m=\u001b[0m \u001b[0mcreate_coco_ap\u001b[0m\u001b[1;33m(\u001b[0m\u001b[0mdataset\u001b[0m\u001b[1;33m=\u001b[0m\u001b[0mcoco_dataset\u001b[0m\u001b[1;33m)\u001b[0m\u001b[1;33m\u001b[0m\u001b[1;33m\u001b[0m\u001b[0m\n\u001b[0m",
      "\u001b[1;32mc:\\Users\\eaidova\\repos\\dataset_api\\openvino\\model_zoo\\metrics\\coco_ap.py\u001b[0m in \u001b[0;36mcreate_coco_ap\u001b[1;34m(max_detections, threshold, task_type, dataset, name)\u001b[0m\n\u001b[0;32m     12\u001b[0m         metric_identifier, {\n\u001b[0;32m     13\u001b[0m             \u001b[1;34m'type'\u001b[0m\u001b[1;33m:\u001b[0m \u001b[0mmetric_identifier\u001b[0m\u001b[1;33m,\u001b[0m \u001b[1;34m'max_detections'\u001b[0m\u001b[1;33m:\u001b[0m \u001b[0mmax_detections\u001b[0m\u001b[1;33m,\u001b[0m \u001b[1;34m'threshold'\u001b[0m\u001b[1;33m:\u001b[0m \u001b[0mthreshold\u001b[0m\u001b[1;33m\u001b[0m\u001b[1;33m\u001b[0m\u001b[0m\n\u001b[1;32m---> 14\u001b[1;33m             }, name or metric_identifier, dataset=dataset)\n\u001b[0m\u001b[0;32m     15\u001b[0m \u001b[1;33m\u001b[0m\u001b[0m\n",
      "\u001b[1;32mc:\\Users\\eaidova\\repos\\dataset_api\\openvino\\model_zoo\\api\\dependency.py\u001b[0m in \u001b[0;36mprovide\u001b[1;34m(cls, provider, *args, **kwargs)\u001b[0m\n\u001b[0;32m     73\u001b[0m     \u001b[1;32mdef\u001b[0m \u001b[0mprovide\u001b[0m\u001b[1;33m(\u001b[0m\u001b[0mcls\u001b[0m\u001b[1;33m,\u001b[0m \u001b[0mprovider\u001b[0m\u001b[1;33m,\u001b[0m \u001b[1;33m*\u001b[0m\u001b[0margs\u001b[0m\u001b[1;33m,\u001b[0m \u001b[1;33m**\u001b[0m\u001b[0mkwargs\u001b[0m\u001b[1;33m)\u001b[0m\u001b[1;33m:\u001b[0m\u001b[1;33m\u001b[0m\u001b[1;33m\u001b[0m\u001b[0m\n\u001b[0;32m     74\u001b[0m         \u001b[0mroot_provider\u001b[0m \u001b[1;33m=\u001b[0m \u001b[0mcls\u001b[0m\u001b[1;33m.\u001b[0m\u001b[0mresolve\u001b[0m\u001b[1;33m(\u001b[0m\u001b[0mprovider\u001b[0m\u001b[1;33m)\u001b[0m\u001b[1;33m\u001b[0m\u001b[1;33m\u001b[0m\u001b[0m\n\u001b[1;32m---> 75\u001b[1;33m         \u001b[1;32mreturn\u001b[0m \u001b[0mroot_provider\u001b[0m\u001b[1;33m(\u001b[0m\u001b[1;33m*\u001b[0m\u001b[0margs\u001b[0m\u001b[1;33m,\u001b[0m \u001b[1;33m**\u001b[0m\u001b[0mkwargs\u001b[0m\u001b[1;33m)\u001b[0m\u001b[1;33m\u001b[0m\u001b[1;33m\u001b[0m\u001b[0m\n\u001b[0m\u001b[0;32m     76\u001b[0m \u001b[1;33m\u001b[0m\u001b[0m\n\u001b[0;32m     77\u001b[0m     \u001b[1;33m@\u001b[0m\u001b[0mclassmethod\u001b[0m\u001b[1;33m\u001b[0m\u001b[1;33m\u001b[0m\u001b[0m\n",
      "\u001b[1;31mTypeError\u001b[0m: __init__() got multiple values for argument 'dataset'"
     ]
    }
   ],
   "source": [
    "\n",
    "# create preprocessing outsize dataset\n",
    "preprocessor = TransformComposition([\n",
    "    pillow_resize(size=640), \n",
    "    transpose([2, 0, 1]),\n",
    "]\n",
    ")\n",
    "\n",
    "coco_dataset = COCO2017Dataset(annotation_file='MSCOCO/annotations/instances_val2017.json', data_dir='MSCOCO/val2017')\n",
    "postprocessor = YoloV5(compiled_model.outputs)\n",
    "metric = create_coco_ap(dataset=coco_dataset)"
   ]
  },
  {
   "cell_type": "code",
   "execution_count": null,
   "metadata": {},
   "outputs": [
    {
     "ename": "NameError",
     "evalue": "name 'coco_dataset' is not defined",
     "output_type": "error",
     "traceback": [
      "\u001b[1;31m---------------------------------------------------------------------------\u001b[0m",
      "\u001b[1;31mNameError\u001b[0m                                 Traceback (most recent call last)",
      "\u001b[1;32m~\\AppData\\Local\\Temp/ipykernel_22892/1166077615.py\u001b[0m in \u001b[0;36m<module>\u001b[1;34m\u001b[0m\n\u001b[1;32m----> 1\u001b[1;33m \u001b[1;32mfor\u001b[0m \u001b[1;33m(\u001b[0m\u001b[0mbatch_input_ids\u001b[0m\u001b[1;33m,\u001b[0m \u001b[0mbatch_annotation\u001b[0m\u001b[1;33m,\u001b[0m \u001b[0mbatch_input\u001b[0m\u001b[1;33m,\u001b[0m \u001b[0mbatch_meta\u001b[0m\u001b[1;33m,\u001b[0m \u001b[0mbatch_identifiers\u001b[0m\u001b[1;33m)\u001b[0m \u001b[1;32min\u001b[0m \u001b[0mcoco_dataset\u001b[0m\u001b[1;33m:\u001b[0m\u001b[1;33m\u001b[0m\u001b[1;33m\u001b[0m\u001b[0m\n\u001b[0m\u001b[0;32m      2\u001b[0m     \u001b[0mbatch_input\u001b[0m\u001b[1;33m,\u001b[0m \u001b[0mbatch_meta\u001b[0m \u001b[1;33m=\u001b[0m \u001b[0mpreprocessor\u001b[0m\u001b[1;33m(\u001b[0m\u001b[0mbatch_input\u001b[0m\u001b[1;33m,\u001b[0m \u001b[0mbatch_meta\u001b[0m\u001b[1;33m)\u001b[0m\u001b[1;33m\u001b[0m\u001b[1;33m\u001b[0m\u001b[0m\n\u001b[0;32m      3\u001b[0m     \u001b[0minfer_result\u001b[0m \u001b[1;33m=\u001b[0m \u001b[0minfer_request\u001b[0m\u001b[1;33m.\u001b[0m\u001b[0minfer\u001b[0m\u001b[1;33m(\u001b[0m\u001b[0mnp\u001b[0m\u001b[1;33m.\u001b[0m\u001b[0marray\u001b[0m\u001b[1;33m(\u001b[0m\u001b[0mbatch_input\u001b[0m\u001b[1;33m)\u001b[0m\u001b[1;33m)\u001b[0m\u001b[1;33m\u001b[0m\u001b[1;33m\u001b[0m\u001b[0m\n\u001b[0;32m      4\u001b[0m     \u001b[0mbatch_predictions\u001b[0m \u001b[1;33m=\u001b[0m \u001b[0mpostprocessor\u001b[0m\u001b[1;33m(\u001b[0m\u001b[0minfer_result\u001b[0m\u001b[1;33m,\u001b[0m \u001b[0mbatch_meta\u001b[0m\u001b[1;33m,\u001b[0m \u001b[0mbatch_identifiers\u001b[0m\u001b[1;33m)\u001b[0m\u001b[1;33m\u001b[0m\u001b[1;33m\u001b[0m\u001b[0m\n\u001b[0;32m      5\u001b[0m     \u001b[0mmetric\u001b[0m\u001b[1;33m.\u001b[0m\u001b[0mbatch_update\u001b[0m\u001b[1;33m(\u001b[0m\u001b[0mbatch_annotation\u001b[0m\u001b[1;33m,\u001b[0m \u001b[0mbatch_predictions\u001b[0m\u001b[1;33m)\u001b[0m\u001b[1;33m\u001b[0m\u001b[1;33m\u001b[0m\u001b[0m\n",
      "\u001b[1;31mNameError\u001b[0m: name 'coco_dataset' is not defined"
     ]
    }
   ],
   "source": [
    "for (batch_input_ids, batch_annotation, batch_input, batch_meta, batch_identifiers) in coco_dataset:\n",
    "    batch_input, batch_meta = preprocessor(batch_input, batch_meta)\n",
    "    infer_result = infer_request.infer(np.array(batch_input))\n",
    "    batch_predictions = postprocessor(infer_result, batch_meta, batch_identifiers)\n",
    "    metric.batch_update(batch_annotation, batch_predictions)"
   ]
  },
  {
   "cell_type": "code",
   "execution_count": null,
   "metadata": {},
   "outputs": [],
   "source": [
    "from openvino.inference_engine import IECore\n",
    "from openvino.model_zoo.model_api.models import SSD\n",
    "from openvino.model_zoo.model_api.adapters import OpenvinoAdapter\n",
    "\n",
    "ssd_model = SSD(OpenvinoAdapter(IECore(), 'ssdlite_mobilenet_v2.xml'))\n",
    "for (_, _, batch_input, _, _) in coco_dataset[:10]:\n",
    "    output = ssd_model(batch_input[0])\n"
   ]
  },
  {
   "cell_type": "code",
   "execution_count": null,
   "metadata": {},
   "outputs": [],
   "source": [
    "from openvino.model_zoo.model_api.models import DetectionModel\n",
    "from openvino.model_zoo.model_api.models.utils import Detection\n",
    "\n",
    "class YoloV5Model(DetectionModel):\n",
    "    def __init__(self, model_adapter, configuration=None, preload=False):\n",
    "        super().__init__(model_adapter, configuration, preload)\n",
    "        self._preprocessor = TransformComposition(pillow_resize(size=640), transpose([2, 0, 1]))\n",
    "        self._postprocessor = YoloV5(model_adapter.outputs)\n",
    "\n",
    "    def preprocess(self, inputs):\n",
    "        inputs, meta = self._preprocessor([inputs])\n",
    "        dict_inputs = {self.image_blob_name: np.array(inputs)}\n",
    "        return dict_inputs, meta[0]\n",
    "\n",
    "    def postprocess(self, outputs, meta):\n",
    "        detection = self._postprocessor(outputs, meta)[0]\n",
    "        list_boxes = [\n",
    "            Detection(xmin, ymin, xmax, ymax, score, lbl) \n",
    "            for xmin, ymin, xmax, ymax, score, lbl in zip(\n",
    "            detection.x_mins, \n",
    "            detection.y_mins, \n",
    "            detection.x_maxs, \n",
    "            detection.y_maxs, \n",
    "            detection.scores, \n",
    "            detection.labels\n",
    "            )]\n",
    "\n",
    "        return list_boxes"
   ]
  }
 ],
 "metadata": {
  "interpreter": {
   "hash": "9de7950e2c7f59756e69470654cad4361df158ed1ba671081876ae2b683d5c84"
  },
  "kernelspec": {
   "display_name": "Python 3.7.11 64-bit ('py37': conda)",
   "language": "python",
   "name": "python3"
  },
  "language_info": {
   "codemirror_mode": {
    "name": "ipython",
    "version": 3
   },
   "file_extension": ".py",
   "mimetype": "text/x-python",
   "name": "python",
   "nbconvert_exporter": "python",
   "pygments_lexer": "ipython3",
   "version": "3.7.11"
  },
  "orig_nbformat": 4
 },
 "nbformat": 4,
 "nbformat_minor": 2
}
